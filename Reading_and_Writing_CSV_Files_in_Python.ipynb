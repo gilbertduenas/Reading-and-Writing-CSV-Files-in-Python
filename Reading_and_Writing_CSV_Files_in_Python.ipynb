{
  "nbformat": 4,
  "nbformat_minor": 0,
  "metadata": {
    "colab": {
      "name": "Reading and Writing CSV Files in Python",
      "provenance": [],
      "authorship_tag": "ABX9TyN/xGNex6E6FjyBFtwbNCrl",
      "include_colab_link": true
    },
    "kernelspec": {
      "name": "python3",
      "display_name": "Python 3"
    }
  },
  "cells": [
    {
      "cell_type": "markdown",
      "metadata": {
        "id": "view-in-github",
        "colab_type": "text"
      },
      "source": [
        "<a href=\"https://colab.research.google.com/github/gilbertduenas/Reading-and-Writing-CSV-Files-in-Python/blob/master/Reading_and_Writing_CSV_Files_in_Python.ipynb\" target=\"_parent\"><img src=\"https://colab.research.google.com/assets/colab-badge.svg\" alt=\"Open In Colab\"/></a>"
      ]
    },
    {
      "cell_type": "markdown",
      "metadata": {
        "id": "mIBm2ZPlpJ_y",
        "colab_type": "text"
      },
      "source": [
        "Delimiters are used to separate column data for each row in the file and can be any character or character set such as the comma (,) or tab (\\t).\n",
        "\n",
        "---"
      ]
    },
    {
      "cell_type": "markdown",
      "metadata": {
        "id": "DmRjmEX7pUbq",
        "colab_type": "text"
      },
      "source": [
        "While not required, typically the first row in separated value files contains the name of the data columns.\n",
        "\n",
        "Also known as headers.\n",
        "\n",
        "---"
      ]
    },
    {
      "cell_type": "markdown",
      "metadata": {
        "id": "otgiPgEMpjIq",
        "colab_type": "text"
      },
      "source": [
        "csv.reader() has a keyword argument called delimiter that is used to signal what delimiter is used for the file. By default, the delimiter value is the comma (','). You’ll need to change that whenever that delimiter is different.\n",
        "\n",
        "---"
      ]
    },
    {
      "cell_type": "markdown",
      "metadata": {
        "id": "hICjyjwJpwWb",
        "colab_type": "text"
      },
      "source": [
        "When iterating over an object returned from csv.reader(), the contents returned is the row data as a list of strings.\n",
        "\n",
        "For example, given a CSV file with the following contents:\n",
        "\n",
        "Name,Hire Date,Salary,Sick Days remaining\n",
        "Fred,10/10/10,10000,10\n",
        "The code above would have an output like so:\n",
        "\n",
        "    for item in csv_reader:\n",
        "      print(item)\n",
        "\n",
        "['Name', 'Hire Date', 'Salary', 'Sick Days remaining']\n",
        "\n",
        "['Fred', '10/10/10', '10000', '10']\n",
        "\n",
        "---"
      ]
    },
    {
      "cell_type": "markdown",
      "metadata": {
        "id": "3JMyOm6arhv9",
        "colab_type": "text"
      },
      "source": [
        "pandas has multiple read_ functions that are used to load file data into a pandas.DataFrame. This DataFrame is used to work with table like data structures in Python more easily. When working with CSV files, you should use the pandas.read_csv() function. \n",
        "\n",
        "Here’s a quick example. Given the following CSV file:\n",
        "\n",
        "Name,Hire Date,Salary,Sick Days remaining\n",
        "\n",
        "Fred,10/10/10,10000,10\n",
        "\n",
        "Using pandas.read_csv() would yield the following:\n",
        "\n",
        "    pandas.read_csv('hrdata.csv')\n",
        "\n",
        "Name Hire Date  Salary  Sick Days remaining\n",
        "\n",
        "0 Fred 10/10/10 10000 10\n",
        "\n",
        "---"
      ]
    },
    {
      "cell_type": "markdown",
      "metadata": {
        "id": "fe-3RTG_sDZW",
        "colab_type": "text"
      },
      "source": [
        "The .read_csv() function has a lot of possible parameters that can be used. index_col can be used to define which column of the csv file should be used for the index column. This can be an integer that represents which column (0-indexed) of the header that should be used OR a string that represents which column value of the header should be used.\n",
        "\n",
        "    pandas.read_csv('hrdata.csv', index_col='Name')\n",
        "\n",
        "_____ Hire Date  Salary  Sick Days remaining\n",
        "\n",
        "Name\n",
        "\n",
        "Fred 10/10/10 10000 10\n",
        "\n",
        "    pandas.read_csv('hrdata.csv', index_col=0)\n",
        "\n",
        "_____ Hire Date  Salary  Sick Days remaining\n",
        "\n",
        "Name\n",
        "\n",
        "Fred 10/10/10 10000 10\n",
        "\n",
        "---\n"
      ]
    }
  ]
}